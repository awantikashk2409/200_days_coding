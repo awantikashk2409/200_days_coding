{
 "cells": [
  {
   "cell_type": "code",
   "execution_count": 8,
   "id": "c62f39bd-05c7-485c-a7f4-247c50db30ea",
   "metadata": {},
   "outputs": [
    {
     "name": "stdout",
     "output_type": "stream",
     "text": [
      "{'designation': 'Software', 'company': 'PPS'}\n"
     ]
    }
   ],
   "source": [
    "# Delete a list of keys from a dictionary\n",
    "dic1 = {\"name\" : \"awantika\" , \"designation\" : \"Software\" , \"salary\":28000, \"company\": \"PPS\"}\n",
    "keys_remove = [\"name\",\"salary\"]\n",
    "for i in keys_remove:\n",
    "    dic1.pop(i)\n",
    "print(dic1)"
   ]
  },
  {
   "cell_type": "code",
   "execution_count": 12,
   "id": "ed580736-6c28-46c3-94cd-806677f98ac1",
   "metadata": {},
   "outputs": [
    {
     "name": "stdout",
     "output_type": "stream",
     "text": [
      "Value is not existed\n"
     ]
    }
   ],
   "source": [
    "# Check if a value exists in a dictionary\n",
    "dic1 = {\"name\" : \"awantika\" , \"designation\" : \"Software\" , \"salary\":28000, \"company\": \"PPS\"}\n",
    "if \"software\" in dic1.values():\n",
    "    print(\"value is existed\")\n",
    "else:\n",
    "    print(\"Value is not existed\")"
   ]
  },
  {
   "cell_type": "code",
   "execution_count": null,
   "id": "a4fb84f0-3bfa-41da-b51d-f144288b8d5f",
   "metadata": {},
   "outputs": [],
   "source": []
  }
 ],
 "metadata": {
  "kernelspec": {
   "display_name": "Python [conda env:base] *",
   "language": "python",
   "name": "conda-base-py"
  },
  "language_info": {
   "codemirror_mode": {
    "name": "ipython",
    "version": 3
   },
   "file_extension": ".py",
   "mimetype": "text/x-python",
   "name": "python",
   "nbconvert_exporter": "python",
   "pygments_lexer": "ipython3",
   "version": "3.13.5"
  }
 },
 "nbformat": 4,
 "nbformat_minor": 5
}
