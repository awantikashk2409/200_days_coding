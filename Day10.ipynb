{
 "cells": [
  {
   "cell_type": "code",
   "execution_count": null,
   "id": "6ca9b561-8285-4237-803e-e8f9dd534a02",
   "metadata": {},
   "outputs": [],
   "source": [
    "# Rotate a list to the right by k steps.\n",
    "# example-> [1,2,3,4,5] -> [4,5,1,2,3]"
   ]
  },
  {
   "cell_type": "code",
   "execution_count": 1,
   "id": "8277149b-f58c-4152-90ec-f57452322c8a",
   "metadata": {},
   "outputs": [],
   "source": [
    "def rotate(a,k):\n",
    "    n = len(a)\n",
    "    if n==0:\n",
    "        return a\n",
    "    else:\n",
    "        k = k%n\n",
    "        return a[-k: ] + a[ :-k]"
   ]
  },
  {
   "cell_type": "code",
   "execution_count": 35,
   "id": "ce2efecb-6b0b-4412-bd52-bfc7cb797fb5",
   "metadata": {},
   "outputs": [
    {
     "name": "stdout",
     "output_type": "stream",
     "text": [
      "[4, 5, 1, 2, 3]\n"
     ]
    }
   ],
   "source": [
    "a = [1,2,3,4,5]\n",
    "k = 2\n",
    "print(rotate(a,k))"
   ]
  },
  {
   "cell_type": "code",
   "execution_count": null,
   "id": "913f129d-a171-42b7-8958-3d3521c5ce0b",
   "metadata": {},
   "outputs": [],
   "source": [
    "# Rotate a list to the left by k steps.\n",
    "#example -> [1,2,3,4,5] -> [3,4,5,1,2]"
   ]
  },
  {
   "cell_type": "code",
   "execution_count": 16,
   "id": "a1e5f5ce-c34b-4a15-98ea-f44ed8857361",
   "metadata": {},
   "outputs": [],
   "source": [
    "def rotateleft(lst,k):\n",
    "    n = len(lst)\n",
    "    if n==0:\n",
    "        return lst\n",
    "    else:\n",
    "        k=k%n\n",
    "        return lst[k: ]+lst[ :k]"
   ]
  },
  {
   "cell_type": "code",
   "execution_count": 26,
   "id": "c27930a1-0c85-4185-b7d5-ed9f8314b806",
   "metadata": {},
   "outputs": [
    {
     "name": "stdout",
     "output_type": "stream",
     "text": [
      "[5, 1, 2, 3, 4]\n"
     ]
    }
   ],
   "source": [
    "lst = [1,2,3,4,5]\n",
    "k = 4\n",
    "print(rotateleft(lst,k))"
   ]
  },
  {
   "cell_type": "markdown",
   "id": "1c5f6f06-fec4-4ef9-b998-28be28bf8756",
   "metadata": {
    "jp-MarkdownHeadingCollapsed": true
   },
   "source": [
    " lst[k:]"
   ]
  },
  {
   "cell_type": "code",
   "execution_count": 20,
   "id": "02f1ff4e-b358-4844-a45e-791ad28d31ec",
   "metadata": {},
   "outputs": [
    {
     "data": {
      "text/plain": [
       "[1, 2]"
      ]
     },
     "execution_count": 20,
     "metadata": {},
     "output_type": "execute_result"
    }
   ],
   "source": [
    "lst [ :k]"
   ]
  },
  {
   "cell_type": "code",
   "execution_count": 38,
   "id": "ae0cb165-b5fd-41dd-8084-bef367e5589d",
   "metadata": {},
   "outputs": [
    {
     "name": "stdout",
     "output_type": "stream",
     "text": [
      "[2, 4]\n",
      "4 6\n"
     ]
    }
   ],
   "source": [
    "# Find all pairs of numbers in a list that add up to a target sum like(10).\n",
    "# example : [2,3,4,5,6,1] \n",
    "\n",
    "a = [2,3,4,5,6,1]\n",
    "target = 10\n",
    "n = len(a)\n",
    "for i in range(n):\n",
    "    for j in range(i+1,n):\n",
    "        if a[i]+a[j] == target:\n",
    "            print([i,j])\n",
    "            print(a[i],a[j])"
   ]
<<<<<<< HEAD
  },
  {
   "cell_type": "code",
   "execution_count": null,
   "id": "73d91670-6f8f-463e-ad83-f67101d3cd83",
   "metadata": {},
   "outputs": [],
   "source": []
=======
>>>>>>> 6d8a6d8 (day16)
  }
 ],
 "metadata": {
  "kernelspec": {
   "display_name": "Python 3 (ipykernel)",
   "language": "python",
   "name": "python3"
  },
  "language_info": {
   "codemirror_mode": {
    "name": "ipython",
    "version": 3
   },
   "file_extension": ".py",
   "mimetype": "text/x-python",
   "name": "python",
   "nbconvert_exporter": "python",
   "pygments_lexer": "ipython3",
   "version": "3.12.8"
  }
 },
 "nbformat": 4,
 "nbformat_minor": 5
}
