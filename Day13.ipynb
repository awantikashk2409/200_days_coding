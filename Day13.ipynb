{
 "cells": [
  {
   "cell_type": "code",
   "execution_count": 19,
   "id": "f12f52c2-9225-4b88-a8ee-6487f0d4c194",
   "metadata": {},
   "outputs": [
    {
     "name": "stdout",
     "output_type": "stream",
     "text": [
      "[1, 2, 3, 4, 5, 6, 8, 14, 15, 18]\n"
     ]
    }
   ],
   "source": [
    "# Merge two sort list into one sorted list (without using sort()).\n",
    "a = [2,3,4,5,8]\n",
    "b = [1,6,14,15,18]\n",
    "i,j = 0,0\n",
    "result = []\n",
    "\n",
    "while i < len(a) and j < len(b):\n",
    "    if a[i] <= b[j]:\n",
    "        result.append(a[i])\n",
    "        i+=1\n",
    "    else:\n",
    "        result.append(b[j])\n",
    "        j+=1\n",
    "while i<len(a):\n",
    "    result.append(a[i])\n",
    "    i+=1\n",
    "while j<len(b):\n",
    "    result.append(b[j])\n",
    "    j+=1\n",
    "print(result)"
   ]
  },
  {
   "cell_type": "code",
   "execution_count": 74,
   "id": "bcd2d0ab-27a3-4ad9-90ce-4d1c263f1460",
   "metadata": {},
   "outputs": [],
   "source": [
    "# Move zeros to end\n",
    "#example: [0,1,0,3,12] -> [1,3,12,0,0]\n",
    "def move_zeros(list1):\n",
    "    i=0\n",
    "    for j in list1:\n",
    "        if j != 0:\n",
    "            list1[i]=j\n",
    "            i+=1\n",
    "    while(i < len(list1)):\n",
    "        list1[i] = 0\n",
    "        i+=1\n",
    "    return list1"
   ]
  },
  {
   "cell_type": "code",
   "execution_count": 75,
   "id": "77695f84-1569-492f-8b36-15969cb388dd",
   "metadata": {},
   "outputs": [],
   "source": [
    "list1 = [0,1,0,3,12]"
   ]
  },
  {
   "cell_type": "code",
   "execution_count": 76,
   "id": "0af66c6e-b864-430e-8763-84fab07ce210",
   "metadata": {},
   "outputs": [
    {
     "name": "stdout",
     "output_type": "stream",
     "text": [
      "[1, 3, 12, 0, 0]\n"
     ]
    }
   ],
   "source": [
    "print(move_zeros(list1))"
   ]
  },
  {
   "cell_type": "code",
   "execution_count": 81,
   "id": "423225ff-d54f-4d87-bf4e-4e155ef5e2db",
   "metadata": {},
   "outputs": [
    {
     "name": "stdout",
     "output_type": "stream",
     "text": [
      "['e', 'h', 'g', 's', 'a']\n"
     ]
    }
   ],
   "source": [
    "s  = ['a','s','g','h','e']\n",
    "a = s[::-1]\n",
    "print(a)"
   ]
<<<<<<< HEAD
  },
  {
   "cell_type": "code",
   "execution_count": null,
   "id": "ca2c3d52-1cef-4bda-bfc4-8bd982875f80",
   "metadata": {},
   "outputs": [],
   "source": []
=======
>>>>>>> 6d8a6d8 (day16)
  }
 ],
 "metadata": {
  "kernelspec": {
   "display_name": "Python 3 (ipykernel)",
   "language": "python",
   "name": "python3"
  },
  "language_info": {
   "codemirror_mode": {
    "name": "ipython",
    "version": 3
   },
   "file_extension": ".py",
   "mimetype": "text/x-python",
   "name": "python",
   "nbconvert_exporter": "python",
   "pygments_lexer": "ipython3",
   "version": "3.12.8"
  }
 },
 "nbformat": 4,
 "nbformat_minor": 5
}
