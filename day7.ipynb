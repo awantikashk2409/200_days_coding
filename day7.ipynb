{
 "cells": [
  {
   "cell_type": "code",
   "execution_count": 8,
   "id": "28cc043c-d779-4954-a1c7-b9b80c86edef",
   "metadata": {},
   "outputs": [],
   "source": [
    "#Find length of the longest word in a sentence.\n",
    "\n",
    "def loword(s):\n",
    "    words = s.split()\n",
    "    return max(words,key=len) // using max function"
   ]
  },
  {
   "cell_type": "code",
   "execution_count": 9,
   "id": "57d9300f-6898-463c-944c-12427798e713",
   "metadata": {},
   "outputs": [
    {
     "data": {
      "text/plain": [
       "'awantika'"
      ]
     },
     "execution_count": 9,
     "metadata": {},
     "output_type": "execute_result"
    }
   ],
   "source": [
    "loword('this is awantika')"
   ]
  },
  {
   "cell_type": "code",
   "execution_count": 17,
   "id": "01500532-ff34-4b38-92a6-920c44d1ed48",
   "metadata": {},
   "outputs": [],
   "source": [
    "#using for loop\n",
    "def loword(s):\n",
    "    words = s.split()\n",
    "    longest = \"\"\n",
    "    for i in words:\n",
    "        if len(i) > len(longest):\n",
    "            longest = i\n",
    "    return longest"
   ]
  },
  {
   "cell_type": "code",
   "execution_count": 18,
   "id": "02ccf7e0-7101-49fb-a080-8b2d7f5aa19d",
   "metadata": {},
   "outputs": [
    {
     "data": {
      "text/plain": [
       "'awantika'"
      ]
     },
     "execution_count": 18,
     "metadata": {},
     "output_type": "execute_result"
    }
   ],
   "source": [
    "loword('this is awantika')"
   ]
  },
  {
   "cell_type": "code",
   "execution_count": null,
   "id": "dddf49f6-de11-4d68-a2d7-c1fe36d5c9da",
   "metadata": {},
   "outputs": [],
   "source": []
  }
 ],
 "metadata": {
  "kernelspec": {
   "display_name": "Python [conda env:base] *",
   "language": "python",
   "name": "conda-base-py"
  },
  "language_info": {
   "codemirror_mode": {
    "name": "ipython",
    "version": 3
   },
   "file_extension": ".py",
   "mimetype": "text/x-python",
   "name": "python",
   "nbconvert_exporter": "python",
   "pygments_lexer": "ipython3",
   "version": "3.13.5"
  }
 },
 "nbformat": 4,
 "nbformat_minor": 5
}
