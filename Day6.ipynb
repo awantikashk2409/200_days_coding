{
 "cells": [
  {
   "cell_type": "code",
   "execution_count": 15,
   "id": "45398251-b706-4558-9058-4044b53b34e0",
   "metadata": {},
   "outputs": [
    {
     "name": "stdout",
     "output_type": "stream",
     "text": [
      "[2, 4, 6, 7, 8]\n",
      "8\n"
     ]
    }
   ],
   "source": [
    "# Find the maximum number in the list\n",
    "list1 = [2,4,8,6,7]\n",
    "list1.sort()\n",
    "print(list1)\n",
    "print(list1[-1])"
   ]
  },
  {
   "cell_type": "code",
   "execution_count": 17,
   "id": "3626827f-7d9b-441a-8977-1b80f09bf780",
   "metadata": {},
   "outputs": [
    {
     "name": "stdout",
     "output_type": "stream",
     "text": [
      "1\n"
     ]
    }
   ],
   "source": [
    "# Find the minimum number in the list\n",
    "list2= [3,2,4,6,1,8]\n",
    "list2.sort()\n",
    "print(list2[0])"
   ]
  },
  {
   "cell_type": "code",
   "execution_count": 49,
   "id": "fc9624e6-147d-4dd1-acbc-41dea86e6699",
   "metadata": {},
   "outputs": [],
   "source": [
    "# find the most frequent element in a list using max function\n",
    "def freq(a):\n",
    "    dic = {}\n",
    "    for i in a:\n",
    "        if i in dic:\n",
    "            dic[i]+=1\n",
    "        else:\n",
    "            dic[i]=1\n",
    "    for j in dic:\n",
    "        return max(dic , key = dic.get)\n",
    "#print(max(d, key=d.get))      # b   (200 is biggest)\n",
    "#print(d[max(d, key=d.get)])   # 200 (the value itself)\n"
   ]
  },
  {
   "cell_type": "code",
   "execution_count": 50,
   "id": "a41d3e3d-9a90-4648-aaa7-30cc4bd8bbe2",
   "metadata": {},
   "outputs": [
    {
     "data": {
      "text/plain": [
       "2"
      ]
     },
     "execution_count": 50,
     "metadata": {},
     "output_type": "execute_result"
    }
   ],
   "source": [
    "freq([1,2,3,4,2,3,2,2])"
   ]
  },
  {
   "cell_type": "code",
   "execution_count": 51,
   "id": "64cdb9cc-2310-4f86-96d1-748ee3ea03cb",
   "metadata": {},
   "outputs": [],
   "source": [
    "# find the most frequent element in a list using count\n",
    "def freq(a):\n",
    "    dic = {}\n",
    "    for i in a:\n",
    "        if i in dic:\n",
    "            dic[i]+=1\n",
    "        else:\n",
    "            dic[i]=1\n",
    "    count = 0\n",
    "    max_freq = 0\n",
    "    for j in dic:\n",
    "        if dic[j]>count:\n",
    "            count = dic[j]\n",
    "            max_freq = j\n",
    "    return max_freq\n",
    "        \n",
    "        "
   ]
  },
  {
   "cell_type": "code",
   "execution_count": 52,
   "id": "5f6f13a6-7c25-4c7b-825e-c40c74b6f9a0",
   "metadata": {},
   "outputs": [
    {
     "data": {
      "text/plain": [
       "2"
      ]
     },
     "execution_count": 52,
     "metadata": {},
     "output_type": "execute_result"
    }
   ],
   "source": [
    "freq([1,2,3,4,2,3,2,2])"
   ]
  },
  {
   "cell_type": "code",
   "execution_count": 62,
   "id": "fe839290-b33f-4164-91ce-163470380ea3",
   "metadata": {},
   "outputs": [],
   "source": [
    "#Remove duplicate from a list \n",
    "#e.g. :- [1,2,2,3,4,4,5]\n",
    "def dup(a):\n",
    "    return set(a)"
   ]
  },
  {
   "cell_type": "code",
   "execution_count": 63,
   "id": "3a4a1c5f-a158-4e6f-8cdb-463a30bd3161",
   "metadata": {},
   "outputs": [
    {
     "data": {
      "text/plain": [
       "{1, 2, 3, 4, 5}"
      ]
     },
     "execution_count": 63,
     "metadata": {},
     "output_type": "execute_result"
    }
   ],
   "source": [
    "dup([1,2,2,3,4,4,5])"
   ]
  },
  {
   "cell_type": "code",
   "execution_count": 66,
   "id": "d22e3e4f-8dd3-4272-b0f4-6f979124c866",
   "metadata": {},
   "outputs": [],
   "source": [
    "#2nd way\n",
    "def dup(a):\n",
    "    list1=[]\n",
    "    for i in a:\n",
    "        if i not in list1:\n",
    "            list1.append(i)\n",
    "    print(list1)\n",
    "            "
   ]
  },
  {
   "cell_type": "code",
   "execution_count": 67,
   "id": "3e92e3fb-f5aa-4945-8b7e-a82a5f80ad89",
   "metadata": {},
   "outputs": [
    {
     "name": "stdout",
     "output_type": "stream",
     "text": [
      "[1, 2, 3, 4, 5]\n"
     ]
    }
   ],
   "source": [
    "dup([1,2,2,3,4,4,5])"
   ]
  }
 ],
 "metadata": {
  "kernelspec": {
   "display_name": "Python 3 (ipykernel)",
   "language": "python",
   "name": "python3"
  },
  "language_info": {
   "codemirror_mode": {
    "name": "ipython",
    "version": 3
   },
   "file_extension": ".py",
   "mimetype": "text/x-python",
   "name": "python",
   "nbconvert_exporter": "python",
   "pygments_lexer": "ipython3",
   "version": "3.12.8"
  }
 },
 "nbformat": 4,
 "nbformat_minor": 5
}
