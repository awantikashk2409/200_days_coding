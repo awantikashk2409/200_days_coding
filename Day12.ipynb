{
 "cells": [
  {
   "cell_type": "code",
   "execution_count": 8,
   "id": "2626b6b8-02ca-4548-8647-c7b49d54ec75",
   "metadata": {},
   "outputs": [],
   "source": [
    "# convert a tuple of string (\"a\",\"b\",\"c\") into all possible pairs [(\"a\",\"b\"),(\"a\",\"c\"),(\"b\",\"c\")]\n",
    "def pair(d):\n",
    "    list = []\n",
    "    for i in range(len(d)):\n",
    "        for j in range(i+1,len(d)):\n",
    "            list.append((d[i],d[j]))\n",
    "    return list\n",
    "            "
   ]
  },
  {
   "cell_type": "code",
   "execution_count": 9,
   "id": "eb068338-3875-4122-9e2c-d3a57b08f989",
   "metadata": {},
   "outputs": [
    {
     "name": "stdout",
     "output_type": "stream",
     "text": [
      "[('a', 'b'), ('a', 'c'), ('b', 'c')]\n"
     ]
    }
   ],
   "source": [
    "d = (\"a\",\"b\",\"c\")\n",
    "print (pair(d))"
   ]
  },
  {
   "cell_type": "code",
   "execution_count": 12,
   "id": "b4ad14a9-390f-4b39-816f-9f3643ba8f40",
   "metadata": {},
   "outputs": [],
   "source": [
    "# Rearrange a list so that positive and negative numbers alternate.\n",
    "#example [1,-2,3,-4,5,-6]->[1,-2,3,-4,5,-6]\n",
    "# [1,2,-3,-4,5] -> [1,-3,2,-4,5]\n",
    "def a_number(d):\n",
    "    list1 = []\n",
    "    list2 = []\n",
    "    for i in range(len(d)):\n",
    "        if d[i]>0:\n",
    "            list1.append(d[i])\n",
    "        else:\n",
    "            list2.append(d[i])\n",
    "    result =[]        \n",
    "    i,j=0,0\n",
    "    \n",
    "    while i<len(list1) and j<len(list2):\n",
    "        result.append(list1[i])\n",
    "        result.append(list2[j])\n",
    "        i+=1\n",
    "        j+=1\n",
    "    while i<len(list1):\n",
    "        result.append(list1[i])\n",
    "        i+=1\n",
    "    while j<len(list2):\n",
    "        result.append(list2[i])\n",
    "        j+=1\n",
    "    return result   \n"
   ]
  },
  {
   "cell_type": "code",
   "execution_count": 11,
   "id": "1fffe3ef-1540-40dc-bd49-da2aea7b73dc",
   "metadata": {},
   "outputs": [
    {
     "name": "stdout",
     "output_type": "stream",
     "text": [
      "[1, -3, 2, -4, 5]\n"
     ]
    }
   ],
   "source": [
    "d = [1,2,-3,-4,5]\n",
    "print(a_number(d))"
   ]
  },
  {
   "cell_type": "code",
   "execution_count": 31,
   "id": "b6508185-9afb-4683-8e84-137e36c7e04d",
   "metadata": {},
   "outputs": [],
   "source": [
    "# sorting string   \n",
    "#  Example 1:\n",
    "\n",
    "#Input: s = \"lEetcOde\"\n",
    "#Output: \"lEOtcede\"\n",
    "#Explanation: 'E', 'O', and 'e' are the vowels in s; 'l', 't', 'c', and 'd' are all consonants. The vowels are sorted according to their ASCII values, and the consonants remain in the same places.\n",
    "#Example 2:\n",
    "\n",
    "#Input: s = \"lYmpH\"\n",
    "#Output: \"lYmpH\"\n",
    "#Explanation: There are no vowels in s (all characters in s are consonants), so we return \"lYmpH\".\n",
    "def sort_string(s):\n",
    "    list1 = []\n",
    "    vowels = \"aeiouAEIOU\"\n",
    "    for i in s:\n",
    "        if i in vowels:\n",
    "            list1.append(i) \n",
    "    list1.sort()\n",
    "    result = []\n",
    "    j = 0\n",
    "    for i in s:\n",
    "        if i in vowels:\n",
    "            result.append(list1[j])\n",
    "            j+=1\n",
    "        else:\n",
    "            result.append(i)\n",
    "    return \"\".join(result)"
   ]
  },
  {
   "cell_type": "code",
   "execution_count": 32,
   "id": "a638282b-c58e-4f88-9fc9-e2fcd99d0819",
   "metadata": {},
   "outputs": [
    {
     "name": "stdout",
     "output_type": "stream",
     "text": [
      "lEOtcede\n"
     ]
    }
   ],
   "source": [
    "print(sort_string(\"lEetcOde\"))"
   ]
  }
 ],
 "metadata": {
  "kernelspec": {
   "display_name": "Python 3 (ipykernel)",
   "language": "python",
   "name": "python3"
  },
  "language_info": {
   "codemirror_mode": {
    "name": "ipython",
    "version": 3
   },
   "file_extension": ".py",
   "mimetype": "text/x-python",
   "name": "python",
   "nbconvert_exporter": "python",
   "pygments_lexer": "ipython3",
   "version": "3.12.8"
  }
 },
 "nbformat": 4,
 "nbformat_minor": 5
}
