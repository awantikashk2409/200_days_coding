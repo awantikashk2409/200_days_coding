{
 "cells": [
  {
   "cell_type": "markdown",
   "id": "768fede4-d2d5-4199-86e9-7d9f98294f1c",
   "metadata": {},
   "source": [
    "# day1 "
   ]
  },
  {
   "cell_type": "code",
   "execution_count": 25,
   "id": "50e2b74d-4762-488e-8076-cf24ab52e512",
   "metadata": {},
   "outputs": [],
   "source": [
    "#Write a python program to check whether a string starts with vowel or not.\n",
    "def vow(string):\n",
    "    if string[0].lower() in \"aeiou\":\n",
    "        print(\"String starts with vowel\")\n",
    "    else:\n",
    "        print(\"Do not starts with vowel\")"
   ]
  },
  {
   "cell_type": "code",
   "execution_count": 27,
   "id": "6e6f24c1-f776-40cd-8292-03fbc520406a",
   "metadata": {},
   "outputs": [
    {
     "name": "stdout",
     "output_type": "stream",
     "text": [
      "String starts with vowel\n"
     ]
    }
   ],
   "source": [
    "vow('Apple')"
   ]
  },
  {
   "cell_type": "code",
   "execution_count": 29,
   "id": "08675e37-9562-4298-b671-37bd8f38fa14",
   "metadata": {},
   "outputs": [
    {
     "name": "stdin",
     "output_type": "stream",
     "text": [
      "enter the number 6\n"
     ]
    },
    {
     "name": "stdout",
     "output_type": "stream",
     "text": [
      "Number is even\n"
     ]
    }
   ],
   "source": [
    "# Write a program to check if a number is odd or even where the number is taken as input.\n",
    "\n",
    "a = eval(input(\"enter the number\"))\n",
    "if a%2==0:\n",
    "         print(\"Number is even\")\n",
    "else:\n",
    "         print(\"Number is odd\")\n"
   ]
  },
  {
   "cell_type": "code",
   "execution_count": 33,
   "id": "6ebc24de-2b43-45e5-842b-46d7e038855b",
   "metadata": {},
   "outputs": [
    {
     "name": "stdin",
     "output_type": "stream",
     "text": [
      "enter the number 7\n"
     ]
    },
    {
     "name": "stdout",
     "output_type": "stream",
     "text": [
      "Sunday\n"
     ]
    }
   ],
   "source": [
    "#WAP to print the day based on the number input.\n",
    "data = eval(input(\"enter the number\"))\n",
    "if data == 1:\n",
    "            print('Monday')\n",
    "elif data == 2:\n",
    "                  print('Tuesday')\n",
    "elif data == 3:\n",
    "                  print('Wednesday')\n",
    "elif data == 4:\n",
    "                  print('Thrusday')\n",
    "elif data == 5:\n",
    "                  print('Friday')\n",
    "                                    \n",
    "elif data  == 6:\n",
    "                  print('Saturday')\n",
    "elif   data == 7:\n",
    "                  print('Sunday')\n",
    "                  \n",
    "            "
   ]
  },
  {
   "cell_type": "code",
   "execution_count": 6,
   "id": "8c891162-d337-45ac-bb8b-e4d435c9f3ec",
   "metadata": {},
   "outputs": [
    {
     "name": "stdin",
     "output_type": "stream",
     "text": [
      "Enter a day Monday\n"
     ]
    },
    {
     "name": "stdout",
     "output_type": "stream",
     "text": [
      "Monday is day number 1\n"
     ]
    }
   ],
   "source": [
    "a = ['Monday','Tuesday','Wednesday','Thrusday','Friday','Saturday','Sunday']\n",
    "day = input(\"Enter a day\")\n",
    "for i,ele in enumerate(a,1):\n",
    "    if ele == day:\n",
    "        print(f\"{day} is day number {i}\")"
   ]
  },
  {
   "cell_type": "code",
   "execution_count": 9,
   "id": "ed3578ba-7470-4af3-98e2-b9c95974a8cf",
   "metadata": {},
   "outputs": [
    {
     "name": "stdin",
     "output_type": "stream",
     "text": [
      "Enter a number 123\n"
     ]
    },
    {
     "name": "stdout",
     "output_type": "stream",
     "text": [
      "Not divisble by 3\n"
     ]
    }
   ],
   "source": [
    "#Wap to check if the 2nd last digit of numerical input from the user is divisible by 3 or not.\n",
    "a = eval(input(\"Enter a number\"))\n",
    "second_last = (a//10)%10\n",
    "if second_last%3 == 0:\n",
    "    print(\"Divisible by 3\")\n",
    "else:\n",
    "    print(\"Not divisble by 3\")"
   ]
  },
  {
   "cell_type": "code",
   "execution_count": null,
   "id": "0389932a-4ad7-4536-bf0d-20121c65d6a7",
   "metadata": {},
   "outputs": [],
   "source": []
  }
 ],
 "metadata": {
  "kernelspec": {
   "display_name": "Python [conda env:base] *",
   "language": "python",
   "name": "conda-base-py"
  },
  "language_info": {
   "codemirror_mode": {
    "name": "ipython",
    "version": 3
   },
   "file_extension": ".py",
   "mimetype": "text/x-python",
   "name": "python",
   "nbconvert_exporter": "python",
   "pygments_lexer": "ipython3",
   "version": "3.13.5"
  }
 },
 "nbformat": 4,
 "nbformat_minor": 5
}
