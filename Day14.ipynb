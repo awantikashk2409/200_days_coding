{
 "cells": [
  {
   "cell_type": "code",
   "execution_count": null,
   "id": "219b4b05-0ee3-4ba7-be29-f26b2fb4dba3",
   "metadata": {},
   "outputs": [],
   "source": [
    "# Sum of digits \n",
    "input = 987 -> output = 9+8+7 = 24"
   ]
  },
  {
   "cell_type": "code",
   "execution_count": 21,
   "id": "93ada149-5a05-46d5-9506-a77ced41972f",
   "metadata": {},
   "outputs": [],
   "source": [
    "def sum_digits(input):\n",
    "    sum = 0\n",
    "    for i in input:\n",
    "        sum+= int(i)\n",
    "    return sum"
   ]
  },
  {
   "cell_type": "code",
   "execution_count": 22,
   "id": "83be0dcb-f2bc-4ed1-bfd4-888bd234dad5",
   "metadata": {},
   "outputs": [
    {
     "name": "stdout",
     "output_type": "stream",
     "text": [
      "15\n"
     ]
    }
   ],
   "source": [
    "input = \"12345\"\n",
    "print(sum_digits(input))"
   ]
  },
  {
   "cell_type": "code",
   "execution_count": 50,
   "id": "2acc856d-e20d-47e9-beb7-fd0036673d97",
   "metadata": {},
   "outputs": [],
   "source": [
    "# Remove consecutive duplicate\n",
    "#example :- inputs:- [1,2,2,3,1,1] -> [1,2,3,1]\n",
    "def con(list1):\n",
    "    i,j = 0,1\n",
    "    list2 = []\n",
    "    while j<len(list1):\n",
    "        if list1[i] != list1[j]:\n",
    "            list2.append(list1[i])\n",
    "        i+=1\n",
    "        j+=1\n",
    "    list2.append(list1[-1])\n",
    "    return list2\n",
    "            "
   ]
  },
  {
   "cell_type": "code",
   "execution_count": 51,
   "id": "0b49a452-c676-4439-8e27-9200802f5e94",
   "metadata": {},
   "outputs": [],
   "source": [
    "list1 = [1,1,2,2,3,3,1,1,2,5,6]"
   ]
  },
  {
   "cell_type": "code",
   "execution_count": 52,
   "id": "5db63de5-64dd-416e-92ef-64d17c043119",
   "metadata": {},
   "outputs": [
    {
     "name": "stdout",
     "output_type": "stream",
     "text": [
      "[1, 2, 3, 1, 2, 5, 6]\n"
     ]
    }
   ],
   "source": [
    "print(con(list1))"
   ]
  }
 ],
 "metadata": {
  "kernelspec": {
   "display_name": "Python 3 (ipykernel)",
   "language": "python",
   "name": "python3"
  },
  "language_info": {
   "codemirror_mode": {
    "name": "ipython",
    "version": 3
   },
   "file_extension": ".py",
   "mimetype": "text/x-python",
   "name": "python",
   "nbconvert_exporter": "python",
   "pygments_lexer": "ipython3",
   "version": "3.12.8"
  }
 },
 "nbformat": 4,
 "nbformat_minor": 5
}
