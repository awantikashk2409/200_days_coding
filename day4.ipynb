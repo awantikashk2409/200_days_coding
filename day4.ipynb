{
 "cells": [
  {
   "cell_type": "code",
   "execution_count": 5,
   "id": "f298e9fd-8cb3-4d32-a617-74edefd9706a",
   "metadata": {},
   "outputs": [
    {
     "name": "stdin",
     "output_type": "stream",
     "text": [
      "Enter the number 12\n",
      "Enter the number 13\n"
     ]
    },
    {
     "name": "stdout",
     "output_type": "stream",
     "text": [
      "1\n"
     ]
    }
   ],
   "source": [
    "#Write greatest common divisor.\n",
    "import math\n",
    "a = eval(input(\"Enter the number\"))\n",
    "b = eval(input(\"Enter the number\"))\n",
    "c = math.gcd(a,b)\n",
    "print(c)"
   ]
  },
  {
   "cell_type": "code",
   "execution_count": null,
   "id": "ef170c99-dfcb-4430-a0e2-870233bdf266",
   "metadata": {},
   "outputs": [],
   "source": [
    "2nd way :- "
   ]
  },
  {
   "cell_type": "code",
   "execution_count": 8,
   "id": "f073e922-b402-4666-9699-8da67ca8e0fa",
   "metadata": {},
   "outputs": [
    {
     "name": "stdout",
     "output_type": "stream",
     "text": [
      "2 4 6 8 10 12 14 16 18 20 "
     ]
    }
   ],
   "source": [
    "# print all even numbers from 1 to 20.\n",
    "for i in range(1,21):\n",
    "    if i%2==0:\n",
    "        print(i, end=\" \")"
   ]
  },
  {
   "cell_type": "code",
   "execution_count": 11,
   "id": "932129f5-d9ea-47a8-ba9e-0332d3f26d7f",
   "metadata": {},
   "outputs": [
    {
     "name": "stdout",
     "output_type": "stream",
     "text": [
      "5 10 15 20 25 30 35 40 45 50 "
     ]
    }
   ],
   "source": [
    "# print the multiplication table of 5.\n",
    "for i in range(1,11):\n",
    "    print(i*5, end = \" \")"
   ]
  },
  {
   "cell_type": "code",
   "execution_count": 23,
   "id": "31c908f6-1412-442c-bb0e-9d1edff4d5c8",
   "metadata": {},
   "outputs": [
    {
     "name": "stdout",
     "output_type": "stream",
     "text": [
      "5050\n"
     ]
    }
   ],
   "source": [
    "# print the sum of numbers from 1 to 100\n",
    "sum=0\n",
    "for i in range(1,101):\n",
    "    sum+=i\n",
    "print(sum)"
   ]
  },
  {
   "cell_type": "code",
   "execution_count": 24,
   "id": "ae955471-46fc-4b28-9aa1-9f7a6d65c2f8",
   "metadata": {},
   "outputs": [
    {
     "name": "stdout",
     "output_type": "stream",
     "text": [
      "['o', 'a', 'i']\n"
     ]
    }
   ],
   "source": [
    "# print all the vowels from the string 'programming'\n",
    "str = 'programming'\n",
    "list1 = []\n",
    "for i in str:\n",
    "    if i in \"aeiou\":\n",
    "        list1.append(i)\n",
    "print(list1)"
   ]
  },
  {
   "cell_type": "code",
   "execution_count": 35,
   "id": "7b3de0d6-c8ec-439a-8361-6727d248297c",
   "metadata": {},
   "outputs": [
    {
     "name": "stdin",
     "output_type": "stream",
     "text": [
      "enter a number 2\n",
      "enter a number 3\n",
      "enter a number 0\n"
     ]
    }
   ],
   "source": [
    "# keep asking the user to enter a number until they enter 0.\n",
    "while True:\n",
    "    a = eval(input(\"enter a number\"))\n",
    "    if a==0:\n",
    "        break"
   ]
  },
  {
   "cell_type": "code",
   "execution_count": 20,
   "id": "5eb5f898-9f2e-41a1-99f1-2887c5bfaa73",
   "metadata": {},
   "outputs": [
    {
     "name": "stdout",
     "output_type": "stream",
     "text": [
      "8\n"
     ]
    }
   ],
   "source": [
    "#Counting Consonants in a Given Word\n",
    "str = 'programming'\n",
    "list1 = []\n",
    "count = 0\n",
    "for i in str:\n",
    "    if i not in \"aeiou\":\n",
    "        list1.append(i)\n",
    "        count+=1\n",
    "print(count)"
   ]
  },
  {
   "cell_type": "code",
   "execution_count": 26,
   "id": "ed6e1bff-9d2e-4689-a4b6-a6c63046ec65",
   "metadata": {},
   "outputs": [
    {
     "name": "stdout",
     "output_type": "stream",
     "text": [
      "Counter({'c': 2, 'o': 1, 'p': 1, 'y': 1, 'a': 1, 't': 1})\n"
     ]
    }
   ],
   "source": [
    "#By direct function\n",
    "from collections import Counter\n",
    "str = 'copycat'\n",
    "count = Counter(str)\n",
    "print(count)"
   ]
  }
 ],
 "metadata": {
  "kernelspec": {
   "display_name": "Python 3 (ipykernel)",
   "language": "python",
   "name": "python3"
  },
  "language_info": {
   "codemirror_mode": {
    "name": "ipython",
    "version": 3
   },
   "file_extension": ".py",
   "mimetype": "text/x-python",
   "name": "python",
   "nbconvert_exporter": "python",
   "pygments_lexer": "ipython3",
   "version": "3.12.8"
  }
 },
 "nbformat": 4,
 "nbformat_minor": 5
}
