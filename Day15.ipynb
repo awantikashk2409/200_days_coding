{
 "cells": [
  {
   "cell_type": "code",
   "execution_count": null,
   "id": "e9284199-9ee5-4af2-8036-f07bcaa818f0",
   "metadata": {},
   "outputs": [],
   "source": [
    "# Check panagram :\n",
    "#A panagram is a sentence that contains all 26 letter of the alphabet atleast once.\n",
    "string = \"\"thequickbrownfoxjumpsoverthelazydog\""
   ]
  },
  {
   "cell_type": "code",
   "execution_count": 27,
   "id": "b6566e31-d96b-4dc2-bf74-ed1bb4dac0be",
   "metadata": {},
   "outputs": [],
   "source": [
    "def panagram_str(sentence):\n",
    "    s = \"abcdefghijklmnopqrstuvwxyz\"\n",
    "    for i in s:\n",
    "        if i not in sentence:\n",
    "           return False\n",
    "    return True"
   ]
  },
  {
   "cell_type": "code",
   "execution_count": 28,
   "id": "acca5982-014a-4dbe-b0b4-a68529a4bf41",
   "metadata": {},
   "outputs": [],
   "source": [
    "sentence = \"thequickbrownfoxjumpsoverthelazydog\""
   ]
  },
  {
   "cell_type": "code",
   "execution_count": 29,
   "id": "9d813197-bbae-454c-aea2-c03427c4591d",
   "metadata": {},
   "outputs": [
    {
     "name": "stdout",
     "output_type": "stream",
     "text": [
      "True\n"
     ]
    }
   ],
   "source": [
    "print(panagram_str(sentence))"
   ]
  },
  {
   "cell_type": "code",
   "execution_count": null,
   "id": "3133c715-c9b9-420d-8011-5885308bd09d",
   "metadata": {},
   "outputs": [],
   "source": [
    "# Check if two string are rotation:\n",
    "# example: : \"abcd\" and \"dcba\""
   ]
  },
  {
   "cell_type": "code",
   "execution_count": 8,
   "id": "c757cf36-8fa6-428a-a223-59e90a25f263",
   "metadata": {},
   "outputs": [],
   "source": [
    "# Given an array nums of n integers where nums[i] is in the range [1, n], \n",
    "#return an array of all the integers in the range [1, n] that do not appear in nums.\n",
    "\n",
    "#find the missing number\n",
    "def missing_number(list1):\n",
    "    for i in range(len(list1)):\n",
    "        index = abs(list1[i])-1\n",
    "        if list1[index] > 0:\n",
    "            list1[index] *= -1\n",
    "    res = []\n",
    "    for i in range(len(list1)):\n",
    "        if list1[i] > 0:\n",
    "            res.append(i+1)\n",
    "    return res"
   ]
  },
  {
   "cell_type": "code",
   "execution_count": 9,
   "id": "535f1d26-6d1a-45a8-a4a4-7e39f08ddf6f",
   "metadata": {},
   "outputs": [],
   "source": [
    "list1 = [4,5,7,2,3,3,2,5,9]"
   ]
  },
  {
   "cell_type": "code",
   "execution_count": 10,
   "id": "33564f3f-b281-47d2-8896-e3a27eb336e1",
   "metadata": {},
   "outputs": [
    {
     "name": "stdout",
     "output_type": "stream",
     "text": [
      "[1, 6, 8]\n"
     ]
    }
   ],
   "source": [
    "print(missing_number(list1))"
   ]
  }
 ],
 "metadata": {
  "kernelspec": {
   "display_name": "Python 3 (ipykernel)",
   "language": "python",
   "name": "python3"
  },
  "language_info": {
   "codemirror_mode": {
    "name": "ipython",
    "version": 3
   },
   "file_extension": ".py",
   "mimetype": "text/x-python",
   "name": "python",
   "nbconvert_exporter": "python",
   "pygments_lexer": "ipython3",
   "version": "3.12.8"
  }
 },
 "nbformat": 4,
 "nbformat_minor": 5
}
