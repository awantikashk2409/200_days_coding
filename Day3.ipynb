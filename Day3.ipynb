{
 "cells": [
  {
   "cell_type": "code",
   "execution_count": 5,
   "id": "adace987-716b-4dae-bfd1-e6a6420bab9c",
   "metadata": {},
   "outputs": [
    {
     "name": "stdout",
     "output_type": "stream",
     "text": [
      "[3]\n"
     ]
    }
   ],
   "source": [
    "# Write a python program to find common elements between two lists.\n",
    "a = [2,3,4,5,6]\n",
    "b = [1,3,7,8,9]\n",
    "list1 = []\n",
    "for i in a:\n",
    "    if i in b:\n",
    "        list1.append(i)\n",
    "print(list1)"
   ]
  },
  {
   "cell_type": "code",
   "execution_count": 10,
   "id": "864dbf67-c9de-46fb-b2e4-cdfd215fbf3d",
   "metadata": {},
   "outputs": [
    {
     "name": "stdout",
     "output_type": "stream",
     "text": [
      "[3]\n"
     ]
    }
   ],
   "source": [
    "#2nd way\n",
    "a = [2,3,4,5,6]\n",
    "b = [1,3,7,8,9]\n",
    "c = list(set(a)&set(b))\n",
    "print(c)"
   ]
  },
  {
   "cell_type": "code",
   "execution_count": 1,
   "id": "34ff0685-6b21-4cb1-893f-514df3be7ad8",
   "metadata": {},
   "outputs": [
    {
     "name": "stdout",
     "output_type": "stream",
     "text": [
      "[2, 3, 4, 6, 7, 8]\n"
     ]
    }
   ],
   "source": [
    "# Write a python program to remove duplicate from the list\n",
    "a = [2,2,3,4,6,7,8,6]\n",
    "list1 = []\n",
    "for i in a:\n",
    "    if i not in list1:\n",
    "        list1.append(i)\n",
    "print(list1)"
   ]
  },
  {
   "cell_type": "code",
   "execution_count": 17,
   "id": "df631531-d3ef-41ef-a2bc-597d8dce893f",
   "metadata": {},
   "outputs": [],
   "source": [
    "#Write the code to find the fibonacci series upto nth term.\n",
    "def fib(num):\n",
    "    if num<=1:\n",
    "        return num\n",
    "    return(fib(num-1)+fib(num-2))"
   ]
  },
  {
   "cell_type": "code",
   "execution_count": 19,
   "id": "b4b386f3-4745-4199-81f2-b341e6a8b57c",
   "metadata": {},
   "outputs": [
    {
     "data": {
      "text/plain": [
       "233"
      ]
     },
     "execution_count": 19,
     "metadata": {},
     "output_type": "execute_result"
    }
   ],
   "source": [
    "fib(13)"
   ]
  }
 ],
 "metadata": {
  "kernelspec": {
   "display_name": "Python 3 (ipykernel)",
   "language": "python",
   "name": "python3"
  },
  "language_info": {
   "codemirror_mode": {
    "name": "ipython",
    "version": 3
   },
   "file_extension": ".py",
   "mimetype": "text/x-python",
   "name": "python",
   "nbconvert_exporter": "python",
   "pygments_lexer": "ipython3",
   "version": "3.12.8"
  }
 },
 "nbformat": 4,
 "nbformat_minor": 5
}
