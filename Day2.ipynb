{
 "cells": [
  {
   "cell_type": "code",
   "execution_count": 3,
   "id": "d414351a-86c8-4aac-b47b-b38a88757f84",
   "metadata": {},
   "outputs": [
    {
     "name": "stdin",
     "output_type": "stream",
     "text": [
      "Enter a number 12345\n"
     ]
    },
    {
     "name": "stdout",
     "output_type": "stream",
     "text": [
      "5\n"
     ]
    }
   ],
   "source": [
    "#WAP to display the last digit of a number.(without using indexing)\n",
    "a = eval(input(\"Enter a number\"))\n",
    "b = a%10\n",
    "print(b)"
   ]
  },
  {
   "cell_type": "code",
   "execution_count": 16,
   "id": "337cfa6a-3578-4bf8-a6dc-c6ec12bdaf70",
   "metadata": {},
   "outputs": [
    {
     "name": "stdin",
     "output_type": "stream",
     "text": [
      "Enter a character a\n"
     ]
    },
    {
     "name": "stdout",
     "output_type": "stream",
     "text": [
      "data is vowel\n"
     ]
    }
   ],
   "source": [
    "#WAP to check if a single character is a vowel or not\n",
    "data = input(\"Enter a character\")\n",
    "if len(data) == 1:\n",
    "    if data.lower() in ['a','e','i','o','u']:\n",
    "        print(\"data is vowel\")\n",
    "    else:\n",
    "        print(\"data is not vowel\")\n",
    "else:\n",
    "    print(\"Invalid character\")"
   ]
  },
  {
   "cell_type": "code",
   "execution_count": 28,
   "id": "1e6e3542-d728-4a7c-a83b-c4119f812c86",
   "metadata": {},
   "outputs": [
    {
     "name": "stdin",
     "output_type": "stream",
     "text": [
      "Enter a number 153\n"
     ]
    },
    {
     "name": "stdout",
     "output_type": "stream",
     "text": [
      "Number is armstrong\n"
     ]
    }
   ],
   "source": [
    "#WAP to check if a number is armstrong or not\n",
    "a = eval(input(\"Enter a number\"))\n",
    "b = len(str(a))\n",
    "list1 = []\n",
    "for i in str(a):\n",
    "    c = int(i)\n",
    "    list1.append(c**b)\n",
    "    total = sum(list1)\n",
    "if total==a:\n",
    "    print(\"Number is armstrong\")\n",
    "else:\n",
    "    print(\"Number is not armstrong\")\n",
    "    "
   ]
  }
 ],
 "metadata": {
  "kernelspec": {
   "display_name": "Python 3 (ipykernel)",
   "language": "python",
   "name": "python3"
  },
  "language_info": {
   "codemirror_mode": {
    "name": "ipython",
    "version": 3
   },
   "file_extension": ".py",
   "mimetype": "text/x-python",
   "name": "python",
   "nbconvert_exporter": "python",
   "pygments_lexer": "ipython3",
   "version": "3.12.8"
  }
 },
 "nbformat": 4,
 "nbformat_minor": 5
}
