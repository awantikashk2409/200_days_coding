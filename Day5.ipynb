{
 "cells": [
  {
   "cell_type": "code",
   "execution_count": null,
   "id": "eb7e340c-a3fb-4e28-8f21-a615c3b05cd5",
   "metadata": {},
   "outputs": [],
   "source": [
    "# print sum from 1 to 100 using recursion."
   ]
  },
  {
   "cell_type": "code",
   "execution_count": 35,
   "id": "ee7b01ca-abe7-48ab-b72f-3d5b6d1842b6",
   "metadata": {},
   "outputs": [],
   "source": [
    "def sum(n):\n",
    "    if n==0:\n",
    "        return n \n",
    "    return (sum(n-1)+(n))"
   ]
  },
  {
   "cell_type": "code",
   "execution_count": 36,
   "id": "0f07a44e-3c18-443b-9763-6d47b2174ef2",
   "metadata": {},
   "outputs": [
    {
     "data": {
      "text/plain": [
       "5050"
      ]
     },
     "execution_count": 36,
     "metadata": {},
     "output_type": "execute_result"
    }
   ],
   "source": [
    "sum(100)"
   ]
  },
  {
   "cell_type": "code",
   "execution_count": null,
   "id": "921c8487-417b-4afe-b7b2-6f374bed1a48",
   "metadata": {},
   "outputs": [],
   "source": [
    "#Counting the Number of Occurrences of a Character in a String"
   ]
  },
  {
   "cell_type": "code",
   "execution_count": 49,
   "id": "8dde8c94-e6ba-4c8d-9de1-099babe2720b",
   "metadata": {},
   "outputs": [
    {
     "name": "stdout",
     "output_type": "stream",
     "text": [
      "{'p': 1, 'r': 2, 'o': 1, 'g': 2, 'a': 1, 'm': 2, 'i': 3, 'n': 1}\n"
     ]
    }
   ],
   "source": [
    "str = 'programmiiing'\n",
    "dic1 = {}\n",
    "for i in str:\n",
    "    if i in dic1:\n",
    "        dic1[i]+=1\n",
    "    else:\n",
    "        dic1[i]=1\n",
    "print(dic1)"
   ]
  },
  {
   "cell_type": "code",
   "execution_count": 51,
   "id": "4a1cdccb-6460-4ebc-ab72-6f94ab67541c",
   "metadata": {},
   "outputs": [
    {
     "name": "stdout",
     "output_type": "stream",
     "text": [
      "[('p', 1), ('r', 2), ('o', 1), ('g', 2), ('a', 1), ('m', 2), ('i', 1), ('n', 1)]\n"
     ]
    }
   ],
   "source": [
    "#by using list \n",
    "str = 'programming'\n",
    "list1 = []\n",
    "for i in str:\n",
    "    found = False\n",
    "    for j in list1:\n",
    "        if j[0] == i:\n",
    "            list1[list1.index(j)] = (i,j[1]+1)\n",
    "            found = True\n",
    "            break\n",
    "    if not found:\n",
    "        list1.append((i,1))\n",
    "print(list1)  "
   ]
  },
  {
   "cell_type": "code",
   "execution_count": null,
   "id": "058edfa0-f89a-4e19-a9ff-13e39985e080",
   "metadata": {},
   "outputs": [],
   "source": []
  }
 ],
 "metadata": {
  "kernelspec": {
   "display_name": "Python 3 (ipykernel)",
   "language": "python",
   "name": "python3"
  },
  "language_info": {
   "codemirror_mode": {
    "name": "ipython",
    "version": 3
   },
   "file_extension": ".py",
   "mimetype": "text/x-python",
   "name": "python",
   "nbconvert_exporter": "python",
   "pygments_lexer": "ipython3",
   "version": "3.12.8"
  }
 },
 "nbformat": 4,
 "nbformat_minor": 5
}
