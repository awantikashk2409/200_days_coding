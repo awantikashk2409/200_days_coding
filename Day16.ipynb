{
 "cells": [
  {
   "cell_type": "markdown",
   "id": "18e750d1-dbec-4762-bb4f-9230da5b15b9",
   "metadata": {},
   "source": [
    "# Day16"
   ]
  },
  {
   "cell_type": "code",
   "execution_count": null,
   "id": "b537db65-72cd-44c4-aef8-27172ada04fb",
   "metadata": {},
   "outputs": [],
   "source": [
    "#count elements with maximum frequency\n",
    "\n",
    "Input: nums = [1,2,2,3,1,4]\n",
    "Output: 4"
   ]
  },
  {
   "cell_type": "code",
   "execution_count": 45,
   "id": "83bf578e-9b12-4b8a-99c3-ff3277692e24",
   "metadata": {},
   "outputs": [],
   "source": [
    "def max_freq(list1):\n",
    "    dic1,max_freq,c = {}, float('-inf'),0\n",
    "    for i in list1:\n",
    "        if i in dic1:\n",
    "            dic1[i] += 1\n",
    "        else:\n",
    "            dic1[i] = 1\n",
    "        if dic1[i] > max_freq:\n",
    "            max_freq = dic1[i]\n",
    "    for i in dic1:\n",
    "        if dic1[i] == max_freq:\n",
    "            c+=dic1[i]\n",
    "    return c\n",
    "            "
   ]
  },
  {
   "cell_type": "code",
   "execution_count": 50,
   "id": "c7e8c2ae-3322-464c-883f-910acdd4bd3b",
   "metadata": {},
   "outputs": [
    {
     "name": "stdout",
     "output_type": "stream",
     "text": [
      "6\n"
     ]
    }
   ],
   "source": [
    "list1 = [1,2,3,4,5,6,6,3,2]\n",
    "print(max_freq(list1))"
   ]
  },
  {
   "cell_type": "code",
   "execution_count": 10,
   "id": "b0500cb1-f805-4385-acd0-040f12d04a2d",
   "metadata": {},
   "outputs": [],
   "source": [
    "# By using count function and set\n",
    "def m_freq(list2):\n",
    "    m,c=0,0\n",
    "    for i in list2:\n",
    "        freq = list2.count(i)\n",
    "        if freq > m:\n",
    "            m = freq\n",
    "    for i in set(list2):\n",
    "        if list2.count(i) == m:\n",
    "            c+=list2.count(i)\n",
    "    return c"
   ]
  },
  {
   "cell_type": "code",
   "execution_count": 11,
   "id": "d8da9ab2-628e-4db5-8b1c-15837d200354",
   "metadata": {},
   "outputs": [
    {
     "name": "stdout",
     "output_type": "stream",
     "text": [
      "6\n"
     ]
    }
   ],
   "source": [
    "list1 = [1,2,3,4,5,6,6,3,2]\n",
    "print(m_freq(list1))"
   ]
  }
 ],
 "metadata": {
  "kernelspec": {
   "display_name": "Python 3 (ipykernel)",
   "language": "python",
   "name": "python3"
  },
  "language_info": {
   "codemirror_mode": {
    "name": "ipython",
    "version": 3
   },
   "file_extension": ".py",
   "mimetype": "text/x-python",
   "name": "python",
   "nbconvert_exporter": "python",
   "pygments_lexer": "ipython3",
   "version": "3.12.8"
  }
 },
 "nbformat": 4,
 "nbformat_minor": 5
}
