{
 "cells": [
  {
   "cell_type": "markdown",
   "id": "0b8724eb-c7d5-49d3-b474-3884fccc8678",
   "metadata": {},
   "source": [
    "# day 17"
   ]
  },
  {
   "cell_type": "code",
   "execution_count": null,
   "id": "a05ee058-5fb2-4066-b64b-f099d13ea1c5",
   "metadata": {},
   "outputs": [],
   "source": [
    "# Reverse the orders of words in a sentence \n",
    "\n",
    "# example :- \"I love python\" -> \"python Love I\" "
   ]
  },
  {
   "cell_type": "code",
   "execution_count": 62,
   "id": "9f0fb057-36e7-4865-bf32-4b1a0daf2a44",
   "metadata": {},
   "outputs": [],
   "source": [
    "def reverse_word(str):\n",
    "    words = str.split()\n",
    "    a = words[::-1]\n",
    "    return \" \".join(a)"
   ]
  },
  {
   "cell_type": "code",
   "execution_count": 63,
   "id": "2fa0386e-f77c-47c3-8c58-e014c257b8b6",
   "metadata": {},
   "outputs": [],
   "source": [
    "str = \"I love python\""
   ]
  },
  {
   "cell_type": "code",
   "execution_count": 64,
   "id": "b62ba37b-9f1e-4e8d-9e55-e6aa3f7fd13e",
   "metadata": {},
   "outputs": [
    {
     "name": "stdout",
     "output_type": "stream",
     "text": [
      "python love I\n"
     ]
    }
   ],
   "source": [
    "print(reverse_word(str))"
   ]
  },
  {
   "cell_type": "code",
   "execution_count": 85,
   "id": "ece59587-3030-4e9f-aa38-6bb78ef0f947",
   "metadata": {},
   "outputs": [],
   "source": [
    "# Take a sentence as input and create a word frequency dictionary.\n",
    "#example:-  \"the sky is blue the sky is clear\"\n",
    "def freq_dic(str):\n",
    "    dic = {}\n",
    "    words = str.split()\n",
    "    for i in words:\n",
    "        if i not in dic:\n",
    "            dic[i]=1\n",
    "        else:\n",
    "            dic[i]+=1\n",
    "    return dic"
   ]
  },
  {
   "cell_type": "code",
   "execution_count": 86,
   "id": "d5ae6a17-fa17-433b-aaab-a8ee9182c125",
   "metadata": {},
   "outputs": [],
   "source": [
    "str = \"the sky is blue the sky is clear\""
   ]
  },
  {
   "cell_type": "code",
   "execution_count": 87,
   "id": "0c511e3f-cece-44f1-903f-ef367a32d503",
   "metadata": {},
   "outputs": [
    {
     "name": "stdout",
     "output_type": "stream",
     "text": [
      "{'the': 2, 'sky': 2, 'is': 2, 'blue': 1, 'clear': 1}\n"
     ]
    }
   ],
   "source": [
    "print(freq_dic(str))"
   ]
  }
 ],
 "metadata": {
  "kernelspec": {
   "display_name": "Python 3 (ipykernel)",
   "language": "python",
   "name": "python3"
  },
  "language_info": {
   "codemirror_mode": {
    "name": "ipython",
    "version": 3
   },
   "file_extension": ".py",
   "mimetype": "text/x-python",
   "name": "python",
   "nbconvert_exporter": "python",
   "pygments_lexer": "ipython3",
   "version": "3.12.8"
  }
 },
 "nbformat": 4,
 "nbformat_minor": 5
}
