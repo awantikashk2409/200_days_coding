{
 "cells": [
  {
   "cell_type": "markdown",
   "id": "5d96a08f-8600-4fb5-9f14-02e2ba32f3f6",
   "metadata": {},
   "source": [
    "# day 18"
   ]
  },
  {
   "cell_type": "code",
   "execution_count": null,
   "id": "7555f8de-0f05-474a-8b66-a553fa460770",
   "metadata": {},
   "outputs": [],
   "source": [
    "#Write a program to find the first non-repeating character in a string.\n",
    "    # example : 'swiss' -> 'w'"
   ]
  },
  {
   "cell_type": "code",
   "execution_count": 3,
   "id": "a5548006-6a2e-4b32-b789-e7b63a70bb8d",
   "metadata": {},
   "outputs": [],
   "source": [
    "def non_repeating(str):\n",
    "    dic = {}\n",
    "    for i in str:\n",
    "        if i not in dic:\n",
    "            dic[i] = 1\n",
    "        else:\n",
    "            dic[i] += 1\n",
    "    for i in dic:\n",
    "        if dic[i] == 1:\n",
    "            return i"
   ]
  },
  {
   "cell_type": "code",
   "execution_count": 4,
   "id": "08a396ce-0f63-4154-9288-b8fb3f0afea2",
   "metadata": {},
   "outputs": [],
   "source": [
    "str = \"swiss\""
   ]
  },
  {
   "cell_type": "code",
   "execution_count": 5,
   "id": "e74a6f50-0e85-4112-a60d-d5738da4f8d0",
   "metadata": {},
   "outputs": [
    {
     "name": "stdout",
     "output_type": "stream",
     "text": [
      "w\n"
     ]
    }
   ],
   "source": [
    "print(non_repeating(str))"
   ]
  },
  {
   "cell_type": "code",
   "execution_count": 36,
   "id": "fe6366bf-6396-401c-be4f-50e02f53c388",
   "metadata": {},
   "outputs": [],
   "source": [
    "# Find all the duplicates in an array  #1st way using negative indexing\n",
    "#example :- [4,3,2,7,8,2,3,1]\n",
    "def duplicates_ele(nums):\n",
    "    res = []\n",
    "    for i in nums:\n",
    "        index = abs(i)-1\n",
    "        if nums[index] < 0:\n",
    "            res.append(abs(i))\n",
    "        else:\n",
    "            nums[index] = -nums[index]\n",
    "    return res\n"
   ]
  },
  {
   "cell_type": "code",
   "execution_count": 37,
   "id": "35fb4866-1c80-4fea-aba8-04f115ae70d7",
   "metadata": {},
   "outputs": [],
   "source": [
    "nums = [4,3,2,7,8,2,3,1]"
   ]
  },
  {
   "cell_type": "code",
   "execution_count": 38,
   "id": "cdab876b-e76a-49d6-a34d-5363dae72408",
   "metadata": {},
   "outputs": [
    {
     "name": "stdout",
     "output_type": "stream",
     "text": [
      "[2, 3]\n"
     ]
    }
   ],
   "source": [
    "print(duplicates_ele(nums))"
   ]
  },
  {
   "cell_type": "code",
   "execution_count": 42,
   "id": "9fcafde5-da90-4dd4-b754-f0dfc5513729",
   "metadata": {},
   "outputs": [],
   "source": [
    "# Find all dupliactes in an array #2nd way using count built in function\n",
    "def dupli_ele(list1):\n",
    "    list2=[]\n",
    "    for i in list1:\n",
    "        freq = list1.count(i)\n",
    "        if freq > 1:\n",
    "            if i not in list2:\n",
    "                list2.append(i)\n",
    "    return list2"
   ]
  },
  {
   "cell_type": "code",
   "execution_count": 43,
   "id": "f90b3f65-b719-4944-8eca-957d1133d50b",
   "metadata": {},
   "outputs": [],
   "source": [
    "list1 = [4,3,2,7,8,2,3,1]"
   ]
  },
  {
   "cell_type": "code",
   "execution_count": 44,
   "id": "debe11bb-94c6-475d-89f9-e9188b358d9e",
   "metadata": {},
   "outputs": [
    {
     "name": "stdout",
     "output_type": "stream",
     "text": [
      "[3, 2]\n"
     ]
    }
   ],
   "source": [
    "print(dupli_ele(list1))"
   ]
  },
  {
   "cell_type": "code",
   "execution_count": 18,
   "id": "5aca623b-635c-41de-ae1f-5468280d4d52",
   "metadata": {},
   "outputs": [],
   "source": [
    "# using count inbuilt function\n",
    "def nos_repeating(s):\n",
    "    for i in s:\n",
    "        freq = s.count(i)\n",
    "        if freq == 1:\n",
    "            return i"
   ]
  },
  {
   "cell_type": "code",
   "execution_count": 19,
   "id": "f1022cd8-7782-43a8-96ae-9c27eb4bc747",
   "metadata": {},
   "outputs": [],
   "source": [
    "s = \"swiss\""
   ]
  },
  {
   "cell_type": "code",
   "execution_count": 20,
   "id": "3646adb5-07a1-49c3-845e-62678678173a",
   "metadata": {},
   "outputs": [
    {
     "name": "stdout",
     "output_type": "stream",
     "text": [
      "w\n"
     ]
    }
   ],
   "source": [
    "print(non_repeating(s))"
   ]
  }
 ],
 "metadata": {
  "kernelspec": {
   "display_name": "Python 3 (ipykernel)",
   "language": "python",
   "name": "python3"
  },
  "language_info": {
   "codemirror_mode": {
    "name": "ipython",
    "version": 3
   },
   "file_extension": ".py",
   "mimetype": "text/x-python",
   "name": "python",
   "nbconvert_exporter": "python",
   "pygments_lexer": "ipython3",
   "version": "3.12.8"
  }
 },
 "nbformat": 4,
 "nbformat_minor": 5
}
