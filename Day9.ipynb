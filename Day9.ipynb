{
 "cells": [
  {
   "cell_type": "code",
   "execution_count": 3,
   "id": "d3aa9695-bde3-4b0b-a24d-87ef1e3b6b9a",
   "metadata": {},
   "outputs": [
    {
     "name": "stdout",
     "output_type": "stream",
     "text": [
      "{'company': 'PPS', 'designation': 'software', 'salary': 28000, 'title': 'awantika'}\n"
     ]
    }
   ],
   "source": [
    "# Rename key of a dictionary.\n",
    "dict1 = {\"name\" : \"awantika\" , \"company\" : \"PPS\" , \"designation\" : \"software\", \"salary\": 28000}\n",
    "dict1 [\"title\"] = dict1.pop('name')\n",
    "print(dict1)\n"
   ]
  },
  {
   "cell_type": "code",
   "execution_count": 15,
   "id": "b61f9b80-80df-40db-8aee-8667193e2888",
   "metadata": {},
   "outputs": [
    {
     "name": "stdout",
     "output_type": "stream",
     "text": [
      "{'designation': 'software', 'salary': 28000, 'title': 'awantika', 'job': 'PPS'}\n"
     ]
    }
   ],
   "source": [
    "# Rename key of a dictionary multiple renaming\n",
    "dict1 = {\"name\" : \"awantika\" , \"company\" : \"PPS\" , \"designation\" : \"software\", \"salary\": 28000}\n",
    "dict2 = {\"name\" : \"title\" , \"company\" : \"job\"}\n",
    "for i,j in dict2.items():\n",
    "    if i in dict1:\n",
    "        dict1[j] = dict1.pop(i)\n",
    "print(dict1)"
   ]
  },
  {
   "cell_type": "code",
   "execution_count": 35,
   "id": "6138aba0-9b95-46bc-97fd-8a16a909a8fa",
   "metadata": {},
   "outputs": [
    {
     "name": "stdout",
     "output_type": "stream",
     "text": [
      "a\n"
     ]
    }
   ],
   "source": [
    "# Get key of the minimum value.\n",
    "dict1 = {\"a\" : 1 , \"b\" : 2, \"c\" : 3}\n",
    "d =  float(\"inf\")\n",
    "for i in dict1:\n",
    "   if dict1[i] < d:\n",
    "       d = dict1[i]\n",
    "       print(i)"
   ]
  },
  {
   "cell_type": "code",
   "execution_count": 36,
   "id": "74c161c0-a1fd-4ec1-9600-27607e0f8ba5",
   "metadata": {},
   "outputs": [
    {
     "name": "stdout",
     "output_type": "stream",
     "text": [
      "a\n"
     ]
    }
   ],
   "source": [
    "# Get key of the minimum value.\n",
    "dict1 = {\"a\" : 1 , \"b\" : 2, \"c\" : 3}\n",
    "d = float(\"inf\")\n",
    "for i,j in dict1.items():\n",
    "    if j < d:\n",
    "        d = j\n",
    "        print(i)"
   ]
  },
  {
   "cell_type": "code",
   "execution_count": 45,
   "id": "5bb5f33c-470f-454a-995f-9299f30b8aae",
   "metadata": {},
   "outputs": [],
   "source": [
    "# Invert dictionary\n",
    "def inverted_dict1(d):\n",
    "    inverted = {}\n",
    "    for i,j in d.items():\n",
    "        inverted[j] = i\n",
    "    return inverted\n",
    "        "
   ]
  },
  {
   "cell_type": "code",
   "execution_count": 46,
   "id": "e1476080-0080-4757-87be-3c11d0e4043d",
   "metadata": {},
   "outputs": [
    {
     "name": "stdout",
     "output_type": "stream",
     "text": [
      "{1: 'a', 2: 'b', 3: 'c'}\n"
     ]
    }
   ],
   "source": [
    "d = {\"a\" : 1 , \"b\" : 2, \"c\" : 3}\n",
    "print(inverted_dict1(d))"
   ]
  }
 ],
 "metadata": {
  "kernelspec": {
   "display_name": "Python 3 (ipykernel)",
   "language": "python",
   "name": "python3"
  },
  "language_info": {
   "codemirror_mode": {
    "name": "ipython",
    "version": 3
   },
   "file_extension": ".py",
   "mimetype": "text/x-python",
   "name": "python",
   "nbconvert_exporter": "python",
   "pygments_lexer": "ipython3",
   "version": "3.12.8"
  }
 },
 "nbformat": 4,
 "nbformat_minor": 5
}
