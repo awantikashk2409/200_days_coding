{
 "cells": [
  {
   "cell_type": "code",
   "execution_count": 21,
   "id": "0bf596a1-0dd6-4654-b69a-29f574d0b407",
   "metadata": {},
   "outputs": [],
   "source": [
    "# Find the  index of maximum element in a tuple.\n",
    "def max_ele(a):\n",
    "    d = float(\"-inf\")\n",
    "    idx = -1\n",
    "    for i in range(1,len(a)):\n",
    "        if a[i] > d:\n",
    "            d = a[i]\n",
    "            idx = i\n",
    "    return idx"
   ]
  },
  {
   "cell_type": "code",
   "execution_count": 22,
   "id": "f1a28911-5e2e-4a3a-89ff-4274d954bd7a",
   "metadata": {},
   "outputs": [
    {
     "name": "stdout",
     "output_type": "stream",
     "text": [
      "3\n"
     ]
    }
   ],
   "source": [
    "print(max_ele((2,3,4,7,1,5)))\n"
   ]
  },
  {
   "cell_type": "code",
   "execution_count": 36,
   "id": "3131cbb8-6019-4f85-aefd-dafd033f0885",
   "metadata": {},
   "outputs": [
    {
     "name": "stdout",
     "output_type": "stream",
     "text": [
      "[2, 3, 9]\n"
     ]
    }
   ],
   "source": [
    "# Find the common elements between two lists without using set()\n",
    "a = [2,3,4,5,6,8,9]\n",
    "b = [2,3,9,10,11,13]\n",
    "list = []\n",
    "for i in a:\n",
    "    if i in b:\n",
    "        list.append(i)\n",
    "print(list)"
   ]
  },
  {
   "cell_type": "code",
   "execution_count": 37,
   "id": "20e85761-e8ea-4a5a-95ef-3045b86e7701",
   "metadata": {},
   "outputs": [
    {
     "name": "stdout",
     "output_type": "stream",
     "text": [
      "4\n"
     ]
    }
   ],
   "source": [
    "# Find the  index of maximum element in a tuple.\n",
    "#by using inbuilt function\n",
    "t = (5,3,4,2,8)\n",
    "max_val = max(t)\n",
    "max_idx = t.index(max_val)\n",
    "print(max_idx)"
   ]
  }
 ],
 "metadata": {
  "kernelspec": {
   "display_name": "Python 3 (ipykernel)",
   "language": "python",
   "name": "python3"
  },
  "language_info": {
   "codemirror_mode": {
    "name": "ipython",
    "version": 3
   },
   "file_extension": ".py",
   "mimetype": "text/x-python",
   "name": "python",
   "nbconvert_exporter": "python",
   "pygments_lexer": "ipython3",
   "version": "3.12.8"
  }
 },
 "nbformat": 4,
 "nbformat_minor": 5
}
